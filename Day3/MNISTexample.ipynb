{
  "cells": [
    {
      "cell_type": "markdown",
      "metadata": {
        "id": "6MoSL1m3497S"
      },
      "source": [
        "# Make a neural network for reading handwritten digits\n",
        "\n",
        "Here a neural network is constructed and trained on MNIST data. The input is an image of a hand-written digit (between zero and nine) and the output is 10 numbers that correspond to probabilities for each number between 0 and 9.\n",
        "\n",
        "It is a very simple neural network: Two hidden layers, fully connected.\n",
        "\n",
        "MNIST contains images of 28x28=784 pixels and a corresponding label of which number it is."
      ]
    },
    {
      "cell_type": "code",
      "execution_count": 1,
      "metadata": {
        "id": "LizIxRzsurma"
      },
      "outputs": [],
      "source": [
        "import torch\n",
        "import torch.nn as nn"
      ]
    },
    {
      "cell_type": "markdown",
      "metadata": {
        "id": "_3quuFvI45MU"
      },
      "source": [
        "## Get the MNIST data"
      ]
    },
    {
      "cell_type": "code",
      "execution_count": null,
      "metadata": {
        "id": "2RqWCG-qu8OQ"
      },
      "outputs": [],
      "source": [
        "import torchvision\n",
        "\n",
        "# This or similar code is found all over the internet and is more or less\n",
        "# incomprehensible to most of us. You need to study the docs of the torchvsion\n",
        "# package to understand the details.\n",
        "\n",
        "# NOTE: ToTensor scales to [0,1] interval\n",
        "transform = torchvision.transforms.Compose([torchvision.transforms.ToTensor()])\n",
        "mnist_full_train=torchvision.datasets.MNIST(root='MNIST_dir', train=True, transform=transform, download=True)\n",
        "\n",
        "# The images are found now as mnist_full_train[i][0] (for image number i)\n",
        "# with corresponding labels mnist_full_train[i][1]\n",
        "# You can try \"print(mnist_full_train[0][0])\" to see the actual pixel values for\n",
        "# the first image\n",
        "\n",
        "# Here we extract the image dimension\n",
        "image_dim=mnist_full_train[0][0].shape[1]\n",
        "print('Number of pixels in images:',image_dim,'x',image_dim)\n"
      ]
    },
    {
      "cell_type": "code",
      "execution_count": 3,
      "metadata": {
        "id": "cz9VyfPsz05n"
      },
      "outputs": [],
      "source": [
        "# Select the first 1000 images for training to make training fast\n",
        "train_set = torch.utils.data.Subset(mnist_full_train, list(range(1000)))\n",
        "\n",
        "# Make a \"data loader\" that will return batches of images and labels\n",
        "train_loader = torch.utils.data.DataLoader(train_set, batch_size=128, shuffle=True)\n"
      ]
    },
    {
      "cell_type": "markdown",
      "metadata": {
        "id": "JqiCy4Qf51o1"
      },
      "source": [
        "## Make the neural network\n",
        "\n",
        "We make a fully connected feed-forward network.\n",
        "\n",
        "We use the nn.Sequential, which puts the modules one after the other.\n",
        "\n",
        "Because the images are 2D tensors, the first module flattens the images to 1D - from 28x28 to an array of 784 numbers between 0 and 1 (gray scale)."
      ]
    },
    {
      "cell_type": "code",
      "execution_count": 4,
      "metadata": {
        "id": "--qRJB0OvR95"
      },
      "outputs": [],
      "source": [
        "my_network = nn.Sequential(\n",
        "    # First, flatten image\n",
        "    nn.Flatten(),\n",
        "    # One linear layer with 784 inputs and 100 units\n",
        "    nn.Linear(image_dim*image_dim,100),\n",
        "    # ReLU activation function\n",
        "    nn.ReLU(),\n",
        "    # Next layer must now have 100 inputs and we chose 50 units in this layer\n",
        "    nn.Linear(100,50),\n",
        "    nn.ReLU(),\n",
        "    # Final layer must have 10 output units, one for each digit\n",
        "    nn.Linear(50,10)\n",
        "    )"
      ]
    },
    {
      "cell_type": "markdown",
      "metadata": {
        "id": "QkeV6laz8JYG"
      },
      "source": [
        "## Set up the loss function and optimizer"
      ]
    },
    {
      "cell_type": "code",
      "execution_count": 5,
      "metadata": {
        "id": "slqzdeLL8TF5"
      },
      "outputs": [],
      "source": [
        "# The cross entropy loss function combines softmax and loss into one\n",
        "loss_function = nn.CrossEntropyLoss()\n",
        "\n",
        "# The optimizer must know which parameters to optimize\n",
        "# The trainable parameters of a network is returned by the parameters() method\n",
        "optimizer = torch.optim.Adam(my_network.parameters())\n"
      ]
    },
    {
      "cell_type": "markdown",
      "metadata": {
        "id": "0ck-rkUW8WXP"
      },
      "source": [
        "## Train the model"
      ]
    },
    {
      "cell_type": "code",
      "execution_count": null,
      "metadata": {
        "id": "Od7HkKEOvxfU"
      },
      "outputs": [],
      "source": [
        "\n",
        "# Here we run 100 epochs\n",
        "for epoch in range(1,101):\n",
        "    # Each time we call the train_loader it returns one batch of examples\n",
        "    for image,label in train_loader:\n",
        "        ### Standard training sequence that can be used always ################\n",
        "        # Reset all the gradients to zero\n",
        "        optimizer.zero_grad()\n",
        "        # Get the outputs of the neural network for the batch\n",
        "        y = my_network(image)\n",
        "        # Calculate the loss\n",
        "        loss = loss_function(y,label)\n",
        "        # Do the back-propagation\n",
        "        loss.backward()\n",
        "        # Update the weights\n",
        "        optimizer.step()\n",
        "        ### End of standard training sequence #################################\n",
        "\n",
        "    if epoch%10==0:\n",
        "        print('Epoch:',epoch,'Loss',loss.item())\n",
        "\n",
        "\n"
      ]
    },
    {
      "cell_type": "markdown",
      "metadata": {
        "id": "Kn6SXFsb8bRT"
      },
      "source": [
        "## Check if results make sense"
      ]
    },
    {
      "cell_type": "code",
      "execution_count": null,
      "metadata": {
        "id": "S0Fpes7L2G58"
      },
      "outputs": [],
      "source": [
        "# Pick an arbitrary example from the training set\n",
        "image,label = train_set[7]\n",
        "# Calculate the output of the network and apply softmax\n",
        "y = nn.functional.softmax(my_network(image).squeeze(),dim=0)\n",
        "print('True label: ',label)\n",
        "print('Output after softmax:')\n",
        "for i in range(10):\n",
        "    print(i,': ','%.5f' % y[i].item())"
      ]
    },
    {
      "cell_type": "code",
      "execution_count": null,
      "metadata": {
        "id": "WgGqlvhySbdc"
      },
      "outputs": [],
      "source": [
        "# Same as above but shown graphically\n",
        "\n",
        "# And here we are using examples that at NOT in the training set\n",
        "\n",
        "import matplotlib.pyplot as plt\n",
        "import numpy as np\n",
        "\n",
        "# Image number to start from in the full training set\n",
        "start=40000\n",
        "\n",
        "# Plot 10 images from the start index\n",
        "plt.figure(figsize=(10,1))\n",
        "for i in range(10):\n",
        "    image,label = mnist_full_train[start+i]\n",
        "    plt.subplot(1,10,i+1)\n",
        "    plt.imshow(image.squeeze(),cmap='gray')\n",
        "    plt.axis('off')\n",
        "    plt.title(str(label))\n",
        "plt.show()\n",
        "\n",
        "# Plot barplot of the output of the network for the same 10 images\n",
        "plt.figure(figsize=(10,0.5))\n",
        "for i in range(10):\n",
        "    image,label = mnist_full_train[start+i]\n",
        "    y = nn.functional.softmax(my_network(image).squeeze(),dim=0)\n",
        "    plt.subplot(1,10,i+1)\n",
        "    plt.bar(range(10),y.detach().numpy())\n",
        "    # Use smaller font for xticks\n",
        "    plt.tick_params(axis='x', labelsize=6)\n",
        "    # Make sure the x-axis is from 0 to 9\n",
        "    plt.xticks(range(10))\n",
        "    # remove the y-axis ticks\n",
        "    plt.yticks([])\n",
        "\n",
        "plt.show()\n"
      ]
    }
  ],
  "metadata": {
    "colab": {
      "provenance": []
    },
    "kernelspec": {
      "display_name": "py39",
      "language": "python",
      "name": "py39"
    },
    "language_info": {
      "codemirror_mode": {
        "name": "ipython",
        "version": 3
      },
      "file_extension": ".py",
      "mimetype": "text/x-python",
      "name": "python",
      "nbconvert_exporter": "python",
      "pygments_lexer": "ipython3",
      "version": "3.9.18"
    }
  },
  "nbformat": 4,
  "nbformat_minor": 0
}