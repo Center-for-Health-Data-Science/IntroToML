{
 "cells": [
  {
   "attachments": {},
   "cell_type": "markdown",
   "metadata": {},
   "source": [
    "## Prediction of cancer\n",
    "\n",
    "In this project you will work with an extension of the the gene expression dataset used in the course. Briefly, the dataset consists of 26143 samples coming from either healthy tissues or various cancers.\n",
    "\n",
    "In order to complete the challenge take you time to think and discuss the following:\n",
    "\n",
    "1. What is the machine learning task you want to solve? (I encourage you to start by discriminating between cancer and healthy tissue)\n",
    "2. Design the architecture and loss function.\n",
    "3. Go further! If you feel confident, do not limit yourself to above points, try to explore your own ideas (be realistic), such as distinguishing between cancers etc.\n",
    "\n",
    "In order to facilitate the challenge, over the following lines I download the data, and encode the labels for you based on whether they come from a cancer sample or not."
   ]
  },
  {
   "cell_type": "code",
   "execution_count": null,
   "metadata": {
    "vscode": {
     "languageId": "plaintext"
    }
   },
   "outputs": [],
   "source": [
    "!wget https://zenodo.org/record/7828660/files/gtex_with_cancer.csv.gz"
   ]
  },
  {
   "cell_type": "code",
   "execution_count": null,
   "metadata": {
    "vscode": {
     "languageId": "plaintext"
    }
   },
   "outputs": [],
   "source": [
    "import pandas as pd\n",
    "data = pd.read_csv(\"gtex_with_cancer.csv.gz\",sep=\"\\t\")\n",
    "# encode labels\n",
    "data['label'] =  [1 if 'carcinoma' in x else 0 for x in data['tissue']]\n",
    "data.head()"
   ]
  }
 ],
 "metadata": {
  "language_info": {
   "name": "python"
  },
  "orig_nbformat": 4
 },
 "nbformat": 4,
 "nbformat_minor": 2
}
