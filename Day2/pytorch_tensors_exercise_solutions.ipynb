{
 "cells": [
  {
   "attachments": {},
   "cell_type": "markdown",
   "metadata": {},
   "source": [
    "# Tensor exercises\n",
    "\n",
    "Just to make sure that the basics stick, we are going to have some small exercises for what we went through."
   ]
  },
  {
   "cell_type": "code",
   "execution_count": 1,
   "metadata": {},
   "outputs": [],
   "source": [
    "import torch"
   ]
  },
  {
   "attachments": {},
   "cell_type": "markdown",
   "metadata": {},
   "source": [
    "## Basics: initialization, shape, type and device\n",
    "\n",
    "Here are a few practice runs for initializing tensors. If there is something new or you cannot remember how to do something (which happens to us all the time), have a look into the More creation options can be found [docs](https://pytorch.org/docs/stable/torch.html#creation-ops)."
   ]
  },
  {
   "attachments": {},
   "cell_type": "markdown",
   "metadata": {},
   "source": [
    "#### E1"
   ]
  },
  {
   "cell_type": "code",
   "execution_count": null,
   "metadata": {},
   "outputs": [],
   "source": [
    "# create tensor with shape (3,3) and all values 0\n",
    "# check its type and make sure it is integer"
   ]
  },
  {
   "attachments": {},
   "cell_type": "markdown",
   "metadata": {},
   "source": [
    "#### S1"
   ]
  },
  {
   "cell_type": "code",
   "execution_count": 5,
   "metadata": {},
   "outputs": [
    {
     "name": "stdout",
     "output_type": "stream",
     "text": [
      "tensor([[0., 0., 0.],\n",
      "        [0., 0., 0.],\n",
      "        [0., 0., 0.]])\n",
      "torch.float32\n",
      "torch.int32\n",
      "tensor([[0., 0., 0.],\n",
      "        [0., 0., 0.],\n",
      "        [0., 0., 0.]])\n",
      "torch.float32\n",
      "torch.int32\n",
      "tensor([[0, 0, 0],\n",
      "        [0, 0, 0],\n",
      "        [0, 0, 0]])\n",
      "torch.int64\n",
      "torch.int32\n"
     ]
    }
   ],
   "source": [
    "# solution\n",
    "\n",
    "# option 1\n",
    "t = torch.zeros(3,3)\n",
    "print(t)\n",
    "print(t.dtype)\n",
    "t = t.type(torch.int)\n",
    "print(t.dtype)\n",
    "\n",
    "# option 2\n",
    "t = torch.Tensor(3,3).fill_(0)\n",
    "print(t)\n",
    "print(t.dtype)\n",
    "t = t.type(torch.int)\n",
    "print(t.dtype)\n",
    "\n",
    "# option 3\n",
    "t = torch.tensor([[0,0,0],[0,0,0],[0,0,0]])\n",
    "print(t)\n",
    "print(t.dtype)\n",
    "t = t.type(torch.int)\n",
    "print(t.dtype)"
   ]
  },
  {
   "attachments": {},
   "cell_type": "markdown",
   "metadata": {},
   "source": [
    "#### E2"
   ]
  },
  {
   "cell_type": "code",
   "execution_count": null,
   "metadata": {},
   "outputs": [],
   "source": [
    "# create a tensor of shape (2,4) with all values 1\n",
    "# make sure the values are floats"
   ]
  },
  {
   "attachments": {},
   "cell_type": "markdown",
   "metadata": {},
   "source": [
    "#### S2"
   ]
  },
  {
   "cell_type": "code",
   "execution_count": 6,
   "metadata": {},
   "outputs": [
    {
     "name": "stdout",
     "output_type": "stream",
     "text": [
      "tensor([[1., 1., 1., 1.],\n",
      "        [1., 1., 1., 1.]])\n",
      "torch.float32\n",
      "torch.float32\n",
      "tensor([[1., 1., 1., 1.],\n",
      "        [1., 1., 1., 1.]])\n",
      "torch.float32\n",
      "torch.float32\n",
      "tensor([[1, 1, 1, 1],\n",
      "        [1, 1, 1, 1]])\n",
      "torch.int64\n",
      "torch.float32\n"
     ]
    }
   ],
   "source": [
    "# solution\n",
    "\n",
    "# option 1\n",
    "t = torch.ones(2,4)\n",
    "print(t)\n",
    "print(t.dtype)\n",
    "t = t.type(torch.float)\n",
    "print(t.dtype)\n",
    "\n",
    "# option 2\n",
    "t = torch.Tensor(2,4).fill_(1)\n",
    "print(t)\n",
    "print(t.dtype)\n",
    "t = t.type(torch.float)\n",
    "print(t.dtype)\n",
    "\n",
    "# option 3\n",
    "t = torch.tensor([[1,1,1,1],[1,1,1,1]])\n",
    "print(t)\n",
    "print(t.dtype)\n",
    "t = t.type(torch.float)\n",
    "print(t.dtype)"
   ]
  },
  {
   "attachments": {},
   "cell_type": "markdown",
   "metadata": {},
   "source": [
    "#### E3"
   ]
  },
  {
   "cell_type": "code",
   "execution_count": 9,
   "metadata": {},
   "outputs": [],
   "source": [
    "# can you transform the following boolean tensor to a float tensor and back to a boolean tensor?\n",
    "\n",
    "t = torch.tensor([[True, False, True],[False, True, False]])\n",
    "print(t)"
   ]
  },
  {
   "attachments": {},
   "cell_type": "markdown",
   "metadata": {},
   "source": [
    "#### S3"
   ]
  },
  {
   "cell_type": "code",
   "execution_count": 10,
   "metadata": {},
   "outputs": [
    {
     "name": "stdout",
     "output_type": "stream",
     "text": [
      "tensor([[ True, False,  True],\n",
      "        [False,  True, False]])\n",
      "tensor([[1., 0., 1.],\n",
      "        [0., 1., 0.]])\n",
      "tensor([[ True, False,  True],\n",
      "        [False,  True, False]])\n"
     ]
    }
   ],
   "source": [
    "# solution\n",
    "\n",
    "# transform to float\n",
    "t = t.type(torch.float)\n",
    "print(t)\n",
    "# transform back to boolean\n",
    "t = t.type(torch.bool)\n",
    "print(t)"
   ]
  },
  {
   "attachments": {},
   "cell_type": "markdown",
   "metadata": {},
   "source": [
    "#### E4"
   ]
  },
  {
   "cell_type": "code",
   "execution_count": 14,
   "metadata": {},
   "outputs": [
    {
     "name": "stdout",
     "output_type": "stream",
     "text": [
      "tensor([[1.0000, 0.0000, 2.0000],\n",
      "        [0.0000, 0.5000, 0.0000]])\n"
     ]
    }
   ],
   "source": [
    "# what happens to the following tensor as boolean?\n",
    "\n",
    "t = torch.tensor([[1,0,2],[0,0.5,0]])\n",
    "print(t)\n",
    "\n",
    "# we know that 0 is False and 1 is True, but what if there are other values?"
   ]
  },
  {
   "attachments": {},
   "cell_type": "markdown",
   "metadata": {},
   "source": [
    "#### S4"
   ]
  },
  {
   "cell_type": "code",
   "execution_count": 15,
   "metadata": {},
   "outputs": [
    {
     "name": "stdout",
     "output_type": "stream",
     "text": [
      "tensor([[ True, False,  True],\n",
      "        [False,  True, False]])\n"
     ]
    }
   ],
   "source": [
    "# solution\n",
    "\n",
    "t = t.type(torch.bool)\n",
    "print(t)\n",
    "# anything non-zero is True"
   ]
  },
  {
   "attachments": {},
   "cell_type": "markdown",
   "metadata": {},
   "source": [
    "#### E5"
   ]
  },
  {
   "cell_type": "code",
   "execution_count": 16,
   "metadata": {},
   "outputs": [],
   "source": [
    "# here is a dataframe\n",
    "\n",
    "import pandas as pd\n",
    "df = pd.DataFrame({'a':[1,2,3],'b':[4,5,6],'c':[7,8,9]})\n",
    "\n",
    "# convert its values to a tensor"
   ]
  },
  {
   "attachments": {},
   "cell_type": "markdown",
   "metadata": {},
   "source": [
    "#### S5"
   ]
  },
  {
   "cell_type": "code",
   "execution_count": 17,
   "metadata": {},
   "outputs": [
    {
     "name": "stdout",
     "output_type": "stream",
     "text": [
      "tensor([[1, 4, 7],\n",
      "        [2, 5, 8],\n",
      "        [3, 6, 9]])\n"
     ]
    }
   ],
   "source": [
    "# solution\n",
    "\n",
    "t = torch.tensor(df.values)\n",
    "print(t)"
   ]
  },
  {
   "attachments": {},
   "cell_type": "markdown",
   "metadata": {},
   "source": [
    "## Tensor operations"
   ]
  },
  {
   "attachments": {},
   "cell_type": "markdown",
   "metadata": {},
   "source": [
    "### Indexing, slicing and concatenating"
   ]
  },
  {
   "attachments": {},
   "cell_type": "markdown",
   "metadata": {},
   "source": [
    "#### E1"
   ]
  },
  {
   "cell_type": "code",
   "execution_count": 18,
   "metadata": {},
   "outputs": [
    {
     "name": "stdout",
     "output_type": "stream",
     "text": [
      "tensor([[2., 2., 2.],\n",
      "        [2., 2., 2.],\n",
      "        [2., 2., 2.]])\n"
     ]
    }
   ],
   "source": [
    "# change the first row of the following tensor to 0\n",
    "\n",
    "t = torch.ones(3,3) * 2\n",
    "print(t)"
   ]
  },
  {
   "attachments": {},
   "cell_type": "markdown",
   "metadata": {},
   "source": [
    "#### S1"
   ]
  },
  {
   "cell_type": "code",
   "execution_count": 19,
   "metadata": {},
   "outputs": [
    {
     "name": "stdout",
     "output_type": "stream",
     "text": [
      "tensor([[0., 0., 0.],\n",
      "        [2., 2., 2.],\n",
      "        [2., 2., 2.]])\n"
     ]
    }
   ],
   "source": [
    "# solution\n",
    "\n",
    "t[0] = 0\n",
    "print(t)"
   ]
  },
  {
   "attachments": {},
   "cell_type": "markdown",
   "metadata": {},
   "source": [
    "#### E2"
   ]
  },
  {
   "cell_type": "code",
   "execution_count": 20,
   "metadata": {},
   "outputs": [
    {
     "name": "stdout",
     "output_type": "stream",
     "text": [
      "tensor([[2., 2., 2.],\n",
      "        [2., 2., 2.],\n",
      "        [2., 2., 2.]])\n"
     ]
    }
   ],
   "source": [
    "# change the first column of the following tensor to 0\n",
    "\n",
    "t = torch.ones(3,3) * 2\n",
    "print(t)"
   ]
  },
  {
   "attachments": {},
   "cell_type": "markdown",
   "metadata": {},
   "source": [
    "#### S2"
   ]
  },
  {
   "cell_type": "code",
   "execution_count": 21,
   "metadata": {},
   "outputs": [
    {
     "name": "stdout",
     "output_type": "stream",
     "text": [
      "tensor([[0., 2., 2.],\n",
      "        [0., 2., 2.],\n",
      "        [0., 2., 2.]])\n"
     ]
    }
   ],
   "source": [
    "# solution\n",
    "\n",
    "t[:,0] = 0\n",
    "print(t)"
   ]
  },
  {
   "attachments": {},
   "cell_type": "markdown",
   "metadata": {},
   "source": [
    "#### E3"
   ]
  },
  {
   "cell_type": "code",
   "execution_count": 39,
   "metadata": {},
   "outputs": [
    {
     "name": "stdout",
     "output_type": "stream",
     "text": [
      "tensor([[1.0000, 0.0000, 2.0000],\n",
      "        [0.0000, 0.5000, 0.0000],\n",
      "        [3.0000, 1.0000, 0.0000]])\n"
     ]
    }
   ],
   "source": [
    "# find all the values in the following tensor that are greater than 1\n",
    "# and replace them with 1\n",
    "\n",
    "t = torch.tensor([[1,0,2],[0,0.5,0],[3,1,0]])\n",
    "print(t)"
   ]
  },
  {
   "attachments": {},
   "cell_type": "markdown",
   "metadata": {},
   "source": [
    "#### S3"
   ]
  },
  {
   "cell_type": "code",
   "execution_count": 42,
   "metadata": {},
   "outputs": [
    {
     "name": "stdout",
     "output_type": "stream",
     "text": [
      "tensor([[1.0000, 0.0000, 1.0000],\n",
      "        [0.0000, 0.5000, 0.0000],\n",
      "        [1.0000, 1.0000, 0.0000]])\n"
     ]
    }
   ],
   "source": [
    "# solution\n",
    "\n",
    "option = 1\n",
    "\n",
    "# choose case defined by option and execute that (use case switch)\n",
    "match option:\n",
    "    case 1:\n",
    "        # as in course\n",
    "        mask = t>1\n",
    "        t[mask] = 1\n",
    "    case 2:\n",
    "        # option 2\n",
    "        t[t>1] = 1\n",
    "    case 3:\n",
    "        # option 3\n",
    "        t = torch.where(t>1,torch.tensor(1),t)\n",
    "    case 4:\n",
    "        # option 4\n",
    "        t = torch.clamp(t,0,1)\n",
    "    case _:\n",
    "        print('invalid option')\n",
    "\n",
    "print(t)\n",
    "\n",
    "# as in course (option 1)\n",
    "#mask = t>1\n",
    "#t[mask] = 1\n",
    "#print(t)\n",
    "\n",
    "# option 2\n",
    "#t[t>1] = 1\n",
    "#print(t)\n",
    "\n",
    "# option 3\n",
    "#t = torch.where(t>1,torch.tensor(1),t)\n",
    "#print(t)\n",
    "\n",
    "# option 4\n",
    "#t = torch.clamp(t,0,1)\n",
    "#print(t)"
   ]
  },
  {
   "attachments": {},
   "cell_type": "markdown",
   "metadata": {},
   "source": [
    "#### E4"
   ]
  },
  {
   "cell_type": "code",
   "execution_count": 45,
   "metadata": {},
   "outputs": [
    {
     "name": "stdout",
     "output_type": "stream",
     "text": [
      "tensor([[1.0000, 0.0000, 2.0000, 0.0000],\n",
      "        [0.0000, 0.5000, 0.0000, 2.0000],\n",
      "        [3.0000, 1.0000, 0.0000, 0.5000]])\n"
     ]
    }
   ],
   "source": [
    "# select the first two rows and the last two columns of the following tensor\n",
    "\n",
    "t = torch.tensor([[1,0,2,0],[0,0.5,0,2],[3,1,0,0.5]])\n",
    "print(t)"
   ]
  },
  {
   "attachments": {},
   "cell_type": "markdown",
   "metadata": {},
   "source": [
    "#### S4"
   ]
  },
  {
   "cell_type": "code",
   "execution_count": 46,
   "metadata": {},
   "outputs": [
    {
     "name": "stdout",
     "output_type": "stream",
     "text": [
      "tensor([[2., 0.],\n",
      "        [0., 2.]])\n"
     ]
    }
   ],
   "source": [
    "# solution\n",
    "\n",
    "t = t[:2,-2:]\n",
    "print(t)"
   ]
  },
  {
   "attachments": {},
   "cell_type": "markdown",
   "metadata": {},
   "source": [
    "#### E5"
   ]
  },
  {
   "cell_type": "code",
   "execution_count": 43,
   "metadata": {},
   "outputs": [],
   "source": [
    "# concatenate the following tensors in the second dimension\n",
    "\n",
    "t1 = torch.tensor([[1,2,3],[4,5,6]])\n",
    "t2 = torch.tensor([[7,8,9],[10,11,12]])"
   ]
  },
  {
   "attachments": {},
   "cell_type": "markdown",
   "metadata": {},
   "source": [
    "#### S5"
   ]
  },
  {
   "cell_type": "code",
   "execution_count": 44,
   "metadata": {},
   "outputs": [
    {
     "name": "stdout",
     "output_type": "stream",
     "text": [
      "tensor([[ 1,  2,  3,  7,  8,  9],\n",
      "        [ 4,  5,  6, 10, 11, 12]])\n"
     ]
    }
   ],
   "source": [
    "# solution\n",
    "\n",
    "t = torch.cat((t1,t2),dim=1)\n",
    "print(t)"
   ]
  },
  {
   "attachments": {},
   "cell_type": "markdown",
   "metadata": {},
   "source": [
    "### Element-wise operations"
   ]
  },
  {
   "attachments": {},
   "cell_type": "markdown",
   "metadata": {},
   "source": [
    "#### E1: Create two tensors of the same shape and add them together"
   ]
  },
  {
   "attachments": {},
   "cell_type": "markdown",
   "metadata": {},
   "source": [
    "#### S1"
   ]
  },
  {
   "cell_type": "code",
   "execution_count": 49,
   "metadata": {},
   "outputs": [
    {
     "name": "stdout",
     "output_type": "stream",
     "text": [
      "tensor([[ 8, 10, 12],\n",
      "        [14, 16, 18]])\n",
      "tensor([[ 8, 10, 12],\n",
      "        [14, 16, 18]])\n"
     ]
    }
   ],
   "source": [
    "t1 = torch.tensor([[1,2,3],[4,5,6]])\n",
    "t2 = torch.tensor([[7,8,9],[10,11,12]])\n",
    "\n",
    "# option 1\n",
    "t = torch.add(t1,t2)\n",
    "print(t)\n",
    "\n",
    "# ooption 2\n",
    "t = t1 + t2\n",
    "print(t)"
   ]
  },
  {
   "attachments": {},
   "cell_type": "markdown",
   "metadata": {},
   "source": [
    "#### E2: Create a tensor of shape (2,3) and multiply each element by 2"
   ]
  },
  {
   "attachments": {},
   "cell_type": "markdown",
   "metadata": {},
   "source": [
    "#### S2"
   ]
  },
  {
   "cell_type": "code",
   "execution_count": 48,
   "metadata": {},
   "outputs": [
    {
     "name": "stdout",
     "output_type": "stream",
     "text": [
      "tensor([[ 2,  4,  6],\n",
      "        [ 8, 10, 12]])\n"
     ]
    }
   ],
   "source": [
    "t = torch.tensor([[1,2,3],[4,5,6]])\n",
    "t = t * 2\n",
    "print(t)"
   ]
  },
  {
   "attachments": {},
   "cell_type": "markdown",
   "metadata": {},
   "source": [
    "#### E3: Multiply all elements of a (2,3)-shape tensor with another tensor of shape (2,3)"
   ]
  },
  {
   "attachments": {},
   "cell_type": "markdown",
   "metadata": {},
   "source": [
    "#### S3"
   ]
  },
  {
   "cell_type": "code",
   "execution_count": 56,
   "metadata": {},
   "outputs": [
    {
     "name": "stdout",
     "output_type": "stream",
     "text": [
      "tensor([[ 7, 16, 27],\n",
      "        [40, 55, 72]])\n",
      "tensor([[ 7, 16, 27],\n",
      "        [40, 55, 72]])\n"
     ]
    }
   ],
   "source": [
    "t1 = torch.tensor([[1,2,3],[4,5,6]])\n",
    "t2 = torch.tensor([[7,8,9],[10,11,12]])\n",
    "\n",
    "# option 1\n",
    "t = torch.mul(t1,t2)\n",
    "print(t)\n",
    "\n",
    "# option 2\n",
    "t = t1 * t2\n",
    "print(t)"
   ]
  },
  {
   "attachments": {},
   "cell_type": "markdown",
   "metadata": {},
   "source": [
    "#### E4: For a given tensor, perform log normalization after adding 1 to each element"
   ]
  },
  {
   "cell_type": "code",
   "execution_count": 57,
   "metadata": {},
   "outputs": [],
   "source": [
    "t = torch.tensor([[1,2,0],[0,5,0]])"
   ]
  },
  {
   "attachments": {},
   "cell_type": "markdown",
   "metadata": {},
   "source": [
    "#### S4"
   ]
  },
  {
   "cell_type": "code",
   "execution_count": 58,
   "metadata": {},
   "outputs": [
    {
     "name": "stdout",
     "output_type": "stream",
     "text": [
      "tensor([[2, 3, 1],\n",
      "        [1, 6, 1]])\n",
      "tensor([[0.6931, 1.0986, 0.0000],\n",
      "        [0.0000, 1.7918, 0.0000]])\n"
     ]
    }
   ],
   "source": [
    "# add 1 to all the values in the following tensor\n",
    "t += 1\n",
    "print(t)\n",
    "\n",
    "# take the log of t\n",
    "t = torch.log(t)\n",
    "print(t)"
   ]
  },
  {
   "attachments": {},
   "cell_type": "markdown",
   "metadata": {},
   "source": [
    "### Reduction operations"
   ]
  },
  {
   "attachments": {},
   "cell_type": "markdown",
   "metadata": {},
   "source": [
    "#### E1: create a tensor of shape (4,5) with random values and take its mean over the first dimension"
   ]
  },
  {
   "attachments": {},
   "cell_type": "markdown",
   "metadata": {},
   "source": [
    "#### S1"
   ]
  },
  {
   "cell_type": "code",
   "execution_count": 61,
   "metadata": {},
   "outputs": [
    {
     "name": "stdout",
     "output_type": "stream",
     "text": [
      "tensor([[-0.1413, -1.6261,  0.9676, -1.6082,  0.8467],\n",
      "        [-1.1308,  0.6192, -0.3533, -1.2482, -1.1031],\n",
      "        [-0.3127, -0.6377,  0.0903,  0.6774,  0.1267],\n",
      "        [-0.8729, -1.1228, -1.0584,  2.5954, -0.8856]])\n",
      "tensor([-0.6144, -0.6918, -0.0885,  0.1041, -0.2538])\n"
     ]
    }
   ],
   "source": [
    "# create random tensor of shape (4,5)\n",
    "# and find the mean of each row\n",
    "t = torch.randn(4,5)\n",
    "print(t)\n",
    "means = t.mean(dim=0)\n",
    "print(means)"
   ]
  },
  {
   "attachments": {},
   "cell_type": "markdown",
   "metadata": {},
   "source": [
    "#### E2: Create a random tensor with shape (4,5) and take the sum over dimension two"
   ]
  },
  {
   "attachments": {},
   "cell_type": "markdown",
   "metadata": {},
   "source": [
    "#### S2"
   ]
  },
  {
   "cell_type": "code",
   "execution_count": 62,
   "metadata": {},
   "outputs": [
    {
     "name": "stdout",
     "output_type": "stream",
     "text": [
      "tensor([[-0.4760, -0.0276,  0.1640, -0.4997, -0.0356],\n",
      "        [ 2.1732, -0.2810,  1.6851, -0.7698,  0.8736],\n",
      "        [-1.4498, -0.7604,  0.8082,  0.3751,  0.0810],\n",
      "        [ 0.0614,  1.0113,  0.9018, -0.7359,  0.0742]])\n",
      "tensor([-0.8748,  3.6810, -0.9460,  1.3127])\n"
     ]
    }
   ],
   "source": [
    "# create random tensor of shape (4,5)\n",
    "t = torch.randn(4,5)\n",
    "print(t)\n",
    "\n",
    "# sum over the second dimension\n",
    "sums = t.sum(dim=1)\n",
    "print(sums)"
   ]
  },
  {
   "attachments": {},
   "cell_type": "markdown",
   "metadata": {},
   "source": [
    "### Matrix operations"
   ]
  },
  {
   "attachments": {},
   "cell_type": "markdown",
   "metadata": {},
   "source": [
    "#### E1: Multiply a tensor of shape (2,3) with its transpose (matrix multiplication)\n",
    "\n",
    "Tip: tensor.t() or tensor.T gives you the transposed form of a tensor"
   ]
  },
  {
   "attachments": {},
   "cell_type": "markdown",
   "metadata": {},
   "source": [
    "#### S1"
   ]
  },
  {
   "cell_type": "code",
   "execution_count": 54,
   "metadata": {},
   "outputs": [
    {
     "name": "stdout",
     "output_type": "stream",
     "text": [
      "tensor([[14, 32],\n",
      "        [32, 77]])\n",
      "tensor([[14, 32],\n",
      "        [32, 77]])\n",
      "tensor([[14, 32],\n",
      "        [32, 77]])\n",
      "tensor([[14, 32],\n",
      "        [32, 77]])\n"
     ]
    }
   ],
   "source": [
    "t1 = torch.tensor([[1,2,3],[4,5,6]])\n",
    "\n",
    "# option 1\n",
    "t = torch.matmul(t1,t1.T)\n",
    "print(t)\n",
    "\n",
    "# option 2\n",
    "t = t1 @ t1.T\n",
    "print(t)\n",
    "\n",
    "# option 3\n",
    "t = t1.mm(t1.T)\n",
    "print(t)\n",
    "\n",
    "# option 4\n",
    "t = torch.mm(t1,t1.T)\n",
    "print(t)"
   ]
  },
  {
   "attachments": {},
   "cell_type": "markdown",
   "metadata": {},
   "source": [
    "## Broadcasting and tensor modification"
   ]
  },
  {
   "attachments": {},
   "cell_type": "markdown",
   "metadata": {},
   "source": [
    "#### E1: Here are two random tensors of shape (3,4) and (3,). Modify one of their shapes in such a way that you can add the second tensor to the first."
   ]
  },
  {
   "cell_type": "code",
   "execution_count": 63,
   "metadata": {},
   "outputs": [
    {
     "ename": "RuntimeError",
     "evalue": "The size of tensor a (4) must match the size of tensor b (3) at non-singleton dimension 1",
     "output_type": "error",
     "traceback": [
      "\u001b[0;31m---------------------------------------------------------------------------\u001b[0m",
      "\u001b[0;31mRuntimeError\u001b[0m                              Traceback (most recent call last)",
      "Cell \u001b[0;32mIn[63], line 4\u001b[0m\n\u001b[1;32m      1\u001b[0m t1 \u001b[39m=\u001b[39m torch\u001b[39m.\u001b[39mrandn(\u001b[39m3\u001b[39m,\u001b[39m4\u001b[39m)\n\u001b[1;32m      2\u001b[0m t2 \u001b[39m=\u001b[39m torch\u001b[39m.\u001b[39mrandn(\u001b[39m3\u001b[39m)\n\u001b[0;32m----> 4\u001b[0m t1 \u001b[39m+\u001b[39;49m t2\n",
      "\u001b[0;31mRuntimeError\u001b[0m: The size of tensor a (4) must match the size of tensor b (3) at non-singleton dimension 1"
     ]
    }
   ],
   "source": [
    "t1 = torch.randn(3,4)\n",
    "t2 = torch.randn(3)\n",
    "\n",
    "t1 + t2"
   ]
  },
  {
   "attachments": {},
   "cell_type": "markdown",
   "metadata": {},
   "source": [
    "#### S1"
   ]
  },
  {
   "cell_type": "code",
   "execution_count": 64,
   "metadata": {},
   "outputs": [
    {
     "data": {
      "text/plain": [
       "tensor([[-0.5579, -1.0514,  2.2625,  0.5759],\n",
       "        [ 0.4819, -0.3863,  0.5028, -0.5366],\n",
       "        [-0.1636, -0.1922, -1.7194, -0.2959]])"
      ]
     },
     "execution_count": 64,
     "metadata": {},
     "output_type": "execute_result"
    }
   ],
   "source": [
    "t1 + t2.unsqueeze(1)"
   ]
  },
  {
   "attachments": {},
   "cell_type": "markdown",
   "metadata": {},
   "source": [
    "#### E2: Find a way to add the elements of the following two tensors in order"
   ]
  },
  {
   "cell_type": "code",
   "execution_count": 65,
   "metadata": {},
   "outputs": [],
   "source": [
    "t1 = torch.randn(6)\n",
    "t2 = torch.randn(2,3)"
   ]
  },
  {
   "attachments": {},
   "cell_type": "markdown",
   "metadata": {},
   "source": [
    "#### S2"
   ]
  },
  {
   "cell_type": "code",
   "execution_count": 66,
   "metadata": {},
   "outputs": [
    {
     "data": {
      "text/plain": [
       "tensor([[ 0.5174, -1.7048, -1.2065],\n",
       "        [ 1.7657, -2.4456, -0.7037]])"
      ]
     },
     "execution_count": 66,
     "metadata": {},
     "output_type": "execute_result"
    }
   ],
   "source": [
    "t1.view(2,3) + t2"
   ]
  }
 ],
 "metadata": {
  "kernelspec": {
   "display_name": "Python 3",
   "language": "python",
   "name": "python3"
  },
  "language_info": {
   "codemirror_mode": {
    "name": "ipython",
    "version": 3
   },
   "file_extension": ".py",
   "mimetype": "text/x-python",
   "name": "python",
   "nbconvert_exporter": "python",
   "pygments_lexer": "ipython3",
   "version": "3.10.8"
  },
  "orig_nbformat": 4,
  "vscode": {
   "interpreter": {
    "hash": "aee8b7b246df8f9039afb4144a1f6fd8d2ca17a180786b69acc140d282b71a49"
   }
  }
 },
 "nbformat": 4,
 "nbformat_minor": 2
}
